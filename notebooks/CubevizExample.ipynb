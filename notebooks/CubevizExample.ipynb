{
 "cells": [
  {
   "cell_type": "markdown",
   "metadata": {},
   "source": [
    "# Cubeviz Demonstration Notebook\n",
    "\n",
    "This notebook demonstrates the Cubeviz API in the Notebook setting. UI equivalents for these actions, as well as additional documentation about Cubeviz, can be found here: https://jdaviz.readthedocs.io/en/latest/cubeviz/"
   ]
  },
  {
   "cell_type": "markdown",
   "metadata": {},
   "source": [
    "Import modules needed for this notebook."
   ]
  },
  {
   "cell_type": "code",
   "execution_count": 1,
   "metadata": {},
   "outputs": [],
   "source": [
    "import warnings\n",
    "\n",
    "from photutils.aperture import CircularAperture\n",
    "from regions import (PixCoord, CirclePixelRegion, CircleSkyRegion, EllipsePixelRegion,\n",
    "                     EllipseSkyRegion)\n",
    "\n",
    "from jdaviz import Cubeviz"
   ]
  },
  {
   "cell_type": "markdown",
   "metadata": {},
   "source": [
    "We create a Cubeviz instance and show it."
   ]
  },
  {
   "cell_type": "code",
   "execution_count": 2,
   "metadata": {},
   "outputs": [
    {
     "data": {
      "application/vnd.jupyter.widget-view+json": {
       "model_id": "22a11f1e055741b5a6b1f77d9cee9a3a",
       "version_major": 2,
       "version_minor": 0
      },
      "text/plain": [
       "Application(config='cubeviz', docs_link='https://jdaviz.readthedocs.io/en/latest/cubeviz/index.html', events=[…"
      ]
     },
     "metadata": {},
     "output_type": "display_data"
    }
   ],
   "source": [
    "cubeviz = Cubeviz()\n",
    "cubeviz.show()"
   ]
  },
  {
   "cell_type": "markdown",
   "metadata": {},
   "source": [
    "Now we load observations. If you already have the files on your local machine, you can \n",
    "load them by passing their file paths to `load_data` as strings. For this example, \n",
    "we will retrieve remote data from [MAST](https://mast.stsci.edu/) via `astroquery`\n",
    "by passing the observation's URI as a string. By default, the downloaded files are \n",
    "saved to the current working directory. If you set `cache=False` in the `load_data` \n",
    "call, it will re-download the file if desired.\n",
    "\n",
    "One other thing to note about retrieving MAST data through astroquery is that it caches\n",
    "the data by default. It is possible for files to be updated in MAST with more recent calibrations\n",
    "but remain the same size, in which case your local cached file would not be replaced by the new\n",
    "version. You can turn off caching by setting `cache=False` in the `download_file` call to\n",
    "force it to re-download the file if desired."
   ]
  },
  {
   "cell_type": "code",
   "execution_count": 3,
   "metadata": {},
   "outputs": [
    {
     "name": "stdout",
     "output_type": "stream",
     "text": [
      "INFO: Found cached file ./jw02732-c1001_t004_miri_ch1-short_s3d.fits with expected size 34165440. [astroquery.query]\n",
      "!!!!!!!!!!!!!!!!!!! 1: SCI\n"
     ]
    }
   ],
   "source": [
    "uri = \"mast:JWST/product/jw02732-c1001_t004_miri_ch1-short_s3d.fits\"\n",
    "\n",
    "with warnings.catch_warnings():\n",
    "    warnings.simplefilter('ignore')\n",
    "    cubeviz.load_data(uri, cache=True)"
   ]
  },
  {
   "cell_type": "code",
   "execution_count": 4,
   "metadata": {},
   "outputs": [
    {
     "name": "stdout",
     "output_type": "stream",
     "text": [
      "$$$$  Subset 2 None Subset 2 Spectrum (Subset 1, sum) <class 'specutils.spectra.spectrum.Spectrum'> {'statistic': None, 'spectral_axis_index': 0}\n",
      "####  Subset: Subset 2 (data: Spectrum (Subset 1, sum))\n"
     ]
    },
    {
     "name": "stderr",
     "output_type": "stream",
     "text": [
      "/home/javer/projects/jdaviz/jdaviz/core/helpers.py:686: UserWarning: Not able to get Spectrum (Subset 1, sum) returned with subset Subset 2 applied of type <class 'specutils.spectra.spectrum.Spectrum'>. Exception: \n",
      "  warnings.warn(f\"Not able to get {data_label} returned with\"\n"
     ]
    },
    {
     "ename": "UnboundLocalError",
     "evalue": "cannot access local variable 'spec_subset' where it is not associated with a value",
     "output_type": "error",
     "traceback": [
      "\u001b[31m---------------------------------------------------------------------------\u001b[39m",
      "\u001b[31mUnboundLocalError\u001b[39m                         Traceback (most recent call last)",
      "\u001b[36mCell\u001b[39m\u001b[36m \u001b[39m\u001b[32mIn[4]\u001b[39m\u001b[32m, line 9\u001b[39m\n\u001b[32m      4\u001b[39m unit = u.um\n\u001b[32m      5\u001b[39m subset_plugin.import_region([\n\u001b[32m      6\u001b[39m     EllipsePixelRegion(center=PixCoord(x=\u001b[32m15\u001b[39m, y=\u001b[32m15\u001b[39m), width=\u001b[32m9\u001b[39m, height=\u001b[32m8\u001b[39m),  \u001b[38;5;66;03m# Subset 1 (spatial)\u001b[39;00m\n\u001b[32m      7\u001b[39m     SpectralRegion(\u001b[32m5\u001b[39m * unit, \u001b[32m5.3\u001b[39m * unit),  \u001b[38;5;66;03m# Subset 2 (spectral)\u001b[39;00m\n\u001b[32m      8\u001b[39m ], combination_mode=\u001b[33m\"\u001b[39m\u001b[33mnew\u001b[39m\u001b[33m\"\u001b[39m)\n\u001b[32m----> \u001b[39m\u001b[32m9\u001b[39m spatial_with_spec = \u001b[43mcubeviz\u001b[49m\u001b[43m.\u001b[49m\u001b[43mget_data\u001b[49m\u001b[43m(\u001b[49m\u001b[43mdata_label\u001b[49m\u001b[43m=\u001b[49m\u001b[33;43m\"\u001b[39;49m\u001b[33;43mSpectrum (Subset 1, sum)\u001b[39;49m\u001b[33;43m\"\u001b[39;49m\u001b[43m,\u001b[49m\n\u001b[32m     10\u001b[39m \u001b[43m                                            \u001b[49m\u001b[43mspectral_subset\u001b[49m\u001b[43m=\u001b[49m\u001b[33;43m\"\u001b[39;49m\u001b[33;43mSubset 2\u001b[39;49m\u001b[33;43m\"\u001b[39;49m\u001b[43m)\u001b[49m\n",
      "\u001b[36mFile \u001b[39m\u001b[32m~/projects/jdaviz/jdaviz/configs/cubeviz/helper.py:155\u001b[39m, in \u001b[36mCubeviz.get_data\u001b[39m\u001b[34m(self, data_label, spatial_subset, spectral_subset, cls, use_display_units)\u001b[39m\n\u001b[32m    127\u001b[39m \u001b[38;5;28;01mdef\u001b[39;00m\u001b[38;5;250m \u001b[39m\u001b[34mget_data\u001b[39m(\u001b[38;5;28mself\u001b[39m, data_label=\u001b[38;5;28;01mNone\u001b[39;00m, spatial_subset=\u001b[38;5;28;01mNone\u001b[39;00m, spectral_subset=\u001b[38;5;28;01mNone\u001b[39;00m,\n\u001b[32m    128\u001b[39m              \u001b[38;5;28mcls\u001b[39m=\u001b[38;5;28;01mNone\u001b[39;00m, use_display_units=\u001b[38;5;28;01mFalse\u001b[39;00m):\n\u001b[32m    129\u001b[39m \u001b[38;5;250m    \u001b[39m\u001b[33;03m\"\"\"\u001b[39;00m\n\u001b[32m    130\u001b[39m \u001b[33;03m    Returns data with name equal to ``data_label`` of type ``cls`` with\u001b[39;00m\n\u001b[32m    131\u001b[39m \u001b[33;03m    subsets applied from ``spectral_subset``, if applicable.\u001b[39;00m\n\u001b[32m   (...)\u001b[39m\u001b[32m    153\u001b[39m \n\u001b[32m    154\u001b[39m \u001b[33;03m    \"\"\"\u001b[39;00m\n\u001b[32m--> \u001b[39m\u001b[32m155\u001b[39m     \u001b[38;5;28;01mreturn\u001b[39;00m \u001b[38;5;28;43mself\u001b[39;49m\u001b[43m.\u001b[49m\u001b[43m_get_data\u001b[49m\u001b[43m(\u001b[49m\u001b[43mdata_label\u001b[49m\u001b[43m=\u001b[49m\u001b[43mdata_label\u001b[49m\u001b[43m,\u001b[49m\u001b[43m \u001b[49m\u001b[43mspatial_subset\u001b[49m\u001b[43m=\u001b[49m\u001b[43mspatial_subset\u001b[49m\u001b[43m,\u001b[49m\n\u001b[32m    156\u001b[39m \u001b[43m                          \u001b[49m\u001b[43mspectral_subset\u001b[49m\u001b[43m=\u001b[49m\u001b[43mspectral_subset\u001b[49m\u001b[43m,\u001b[49m\n\u001b[32m    157\u001b[39m \u001b[43m                          \u001b[49m\u001b[38;5;28;43mcls\u001b[39;49m\u001b[43m=\u001b[49m\u001b[38;5;28;43mcls\u001b[39;49m\u001b[43m,\u001b[49m\u001b[43m \u001b[49m\u001b[43muse_display_units\u001b[49m\u001b[43m=\u001b[49m\u001b[43muse_display_units\u001b[49m\u001b[43m)\u001b[49m\n",
      "\u001b[36mFile \u001b[39m\u001b[32m~/projects/jdaviz/jdaviz/core/helpers.py:693\u001b[39m, in \u001b[36mConfigHelper._get_data\u001b[39m\u001b[34m(self, data_label, spatial_subset, spectral_subset, temporal_subset, mask_subset, cls, use_display_units)\u001b[39m\n\u001b[32m    691\u001b[39m         data.mask = spec_subset.mask\n\u001b[32m    692\u001b[39m     \u001b[38;5;28;01melse\u001b[39;00m:\n\u001b[32m--> \u001b[39m\u001b[32m693\u001b[39m         data = \u001b[43mspec_subset\u001b[49m\n\u001b[32m    695\u001b[39m \u001b[38;5;28;01mreturn\u001b[39;00m \u001b[38;5;28mself\u001b[39m._handle_display_units(data, use_display_units)\n",
      "\u001b[31mUnboundLocalError\u001b[39m: cannot access local variable 'spec_subset' where it is not associated with a value"
     ]
    }
   ],
   "source": [
    "import astropy.units as u\n",
    "from specutils import SpectralRegion\n",
    "subset_plugin = cubeviz.plugins['Subset Tools']\n",
    "unit = u.um\n",
    "subset_plugin.import_region([\n",
    "    EllipsePixelRegion(center=PixCoord(x=15, y=15), width=9, height=8),  # Subset 1 (spatial)\n",
    "    SpectralRegion(5 * unit, 5.3 * unit),  # Subset 2 (spectral)\n",
    "], combination_mode=\"new\")\n",
    "spatial_with_spec = cubeviz.get_data(data_label=\"Spectrum (Subset 1, sum)\",\n",
    "                                            spectral_subset=\"Subset 2\")"
   ]
  },
  {
   "cell_type": "code",
   "execution_count": 5,
   "metadata": {},
   "outputs": [
    {
     "name": "stdout",
     "output_type": "stream",
     "text": [
      "['__and__', '__class__', '__del__', '__delattr__', '__dict__', '__dir__', '__doc__', '__eq__', '__firstlineno__', '__format__', '__ge__', '__getattribute__', '__getitem__', '__getstate__', '__gluestate__', '__gt__', '__hash__', '__init__', '__init_subclass__', '__invert__', '__le__', '__lt__', '__module__', '__ne__', '__new__', '__or__', '__reduce__', '__reduce_ex__', '__repr__', '__setattr__', '__setgluestate__', '__sizeof__', '__static_attributes__', '__str__', '__subclasshook__', '__weakref__', '__xor__', '_broadcasting', '_uuid', 'attributes', 'broadcast', 'component_ids', 'components', 'coordinate_components', 'data', 'delete', 'derived_components', 'do_broadcast', 'group', 'hub', 'label', 'main_components', 'ndim', 'paste', 'pixel_component_ids', 'primary_components', 'read_mask', 'register', 'shape', 'size', 'state_as_mask', 'style', 'subset_group', 'subset_state', 'to_index_list', 'to_mask', 'uuid', 'verbose_label', 'visible', 'visible_components', 'world_component_ids', 'write_mask'] [Pixel Axis 0 [x]]\n",
      "Data Set: Spectrum (Subset 1, sum)\n",
      "Number of dimensions: 1\n",
      "Shape: 1050\n",
      "Main components:\n",
      " - flux [MJy]\n",
      " - uncertainty [MJy]\n",
      " - mask\n",
      "Coordinate components:\n",
      " - Pixel Axis 0 [x]\n",
      " - World 0 [um]\n"
     ]
    },
    {
     "ename": "IncompatibleAttribute",
     "evalue": "",
     "output_type": "error",
     "traceback": [
      "\u001b[31m---------------------------------------------------------------------------\u001b[39m",
      "\u001b[31mIncompatibleAttribute\u001b[39m                     Traceback (most recent call last)",
      "\u001b[36mFile \u001b[39m\u001b[32m~/miniconda3/envs/jdaviz-dev/lib/python3.13/site-packages/glue/core/data.py:1440\u001b[39m, in \u001b[36mData.get_mask\u001b[39m\u001b[34m(self, subset_state, view)\u001b[39m\n\u001b[32m   1439\u001b[39m \u001b[38;5;28;01mtry\u001b[39;00m:\n\u001b[32m-> \u001b[39m\u001b[32m1440\u001b[39m     \u001b[38;5;28;01mreturn\u001b[39;00m \u001b[43msubset_state\u001b[49m\u001b[43m.\u001b[49m\u001b[43mto_mask\u001b[49m\u001b[43m(\u001b[49m\u001b[38;5;28;43mself\u001b[39;49m\u001b[43m,\u001b[49m\u001b[43m \u001b[49m\u001b[43mview\u001b[49m\u001b[43m=\u001b[49m\u001b[43mview\u001b[49m\u001b[43m)\u001b[49m\n\u001b[32m   1441\u001b[39m \u001b[38;5;28;01mexcept\u001b[39;00m IncompatibleAttribute:\n",
      "\u001b[36mFile \u001b[39m\u001b[32m~/miniconda3/envs/jdaviz-dev/lib/python3.13/site-packages/glue/core/subset.py:808\u001b[39m, in \u001b[36mRangeSubsetState.to_mask\u001b[39m\u001b[34m(self, data, view)\u001b[39m\n\u001b[32m    806\u001b[39m \u001b[38;5;129m@contract\u001b[39m(data=\u001b[33m'\u001b[39m\u001b[33misinstance(Data)\u001b[39m\u001b[33m'\u001b[39m, view=\u001b[33m'\u001b[39m\u001b[33marray_view\u001b[39m\u001b[33m'\u001b[39m)\n\u001b[32m    807\u001b[39m \u001b[38;5;28;01mdef\u001b[39;00m\u001b[38;5;250m \u001b[39m\u001b[34mto_mask\u001b[39m(\u001b[38;5;28mself\u001b[39m, data, view=\u001b[38;5;28;01mNone\u001b[39;00m):\n\u001b[32m--> \u001b[39m\u001b[32m808\u001b[39m     x = \u001b[43mdata\u001b[49m\u001b[43m[\u001b[49m\u001b[38;5;28;43mself\u001b[39;49m\u001b[43m.\u001b[49m\u001b[43matt\u001b[49m\u001b[43m,\u001b[49m\u001b[43m \u001b[49m\u001b[43mview\u001b[49m\u001b[43m]\u001b[49m\n\u001b[32m    809\u001b[39m     result = (x >= \u001b[38;5;28mself\u001b[39m.lo) & (x <= \u001b[38;5;28mself\u001b[39m.hi)\n",
      "\u001b[36mFile \u001b[39m\u001b[32m~/miniconda3/envs/jdaviz-dev/lib/python3.13/site-packages/glue/core/data.py:599\u001b[39m, in \u001b[36mBaseCartesianData.__getitem__\u001b[39m\u001b[34m(self, key)\u001b[39m\n\u001b[32m    597\u001b[39m         \u001b[38;5;28;01mraise\u001b[39;00m IncompatibleAttribute(_k)\n\u001b[32m--> \u001b[39m\u001b[32m599\u001b[39m \u001b[38;5;28;01mreturn\u001b[39;00m \u001b[38;5;28;43mself\u001b[39;49m\u001b[43m.\u001b[49m\u001b[43mget_data\u001b[49m\u001b[43m(\u001b[49m\u001b[43mkey\u001b[49m\u001b[43m,\u001b[49m\u001b[43m \u001b[49m\u001b[43mview\u001b[49m\u001b[43m=\u001b[49m\u001b[43mview\u001b[49m\u001b[43m)\u001b[49m\n",
      "\u001b[36mFile \u001b[39m\u001b[32m~/miniconda3/envs/jdaviz-dev/lib/python3.13/site-packages/glue/core/data.py:1414\u001b[39m, in \u001b[36mData.get_data\u001b[39m\u001b[34m(self, cid, view)\u001b[39m\n\u001b[32m   1413\u001b[39m \u001b[38;5;28;01melse\u001b[39;00m:\n\u001b[32m-> \u001b[39m\u001b[32m1414\u001b[39m     \u001b[38;5;28;01mraise\u001b[39;00m IncompatibleAttribute(cid)\n\u001b[32m   1416\u001b[39m \u001b[38;5;28;01mif\u001b[39;00m view \u001b[38;5;129;01mis\u001b[39;00m \u001b[38;5;129;01mnot\u001b[39;00m \u001b[38;5;28;01mNone\u001b[39;00m:\n",
      "\u001b[31mIncompatibleAttribute\u001b[39m: World 0",
      "\nDuring handling of the above exception, another exception occurred:\n",
      "\u001b[31mIncompatibleAttribute\u001b[39m                     Traceback (most recent call last)",
      "\u001b[36mCell\u001b[39m\u001b[36m \u001b[39m\u001b[32mIn[5]\u001b[39m\u001b[32m, line 13\u001b[39m\n\u001b[32m      9\u001b[39m \u001b[38;5;28mprint\u001b[39m(\u001b[38;5;28mdir\u001b[39m(real_spectral), real_spectral.pixel_component_ids)\n\u001b[32m     11\u001b[39m \u001b[38;5;28mprint\u001b[39m(cubeviz.app.data_collection[data_label])\n\u001b[32m---> \u001b[39m\u001b[32m13\u001b[39m spec_subset = \u001b[43mhandler\u001b[49m\u001b[43m.\u001b[49m\u001b[43mto_object\u001b[49m\u001b[43m(\u001b[49m\u001b[43mreal_spectral\u001b[49m\u001b[43m,\u001b[49m\u001b[43m \u001b[49m\u001b[43m*\u001b[49m\u001b[43m*\u001b[49m\u001b[43m{\u001b[49m\u001b[33;43m'\u001b[39;49m\u001b[33;43mstatistic\u001b[39;49m\u001b[33;43m'\u001b[39;49m\u001b[43m:\u001b[49m\u001b[43m \u001b[49m\u001b[38;5;28;43;01mNone\u001b[39;49;00m\u001b[43m,\u001b[49m\u001b[43m \u001b[49m\u001b[33;43m'\u001b[39;49m\u001b[33;43mspectral_axis_index\u001b[39;49m\u001b[33;43m'\u001b[39;49m\u001b[43m:\u001b[49m\u001b[43m \u001b[49m\u001b[32;43m0\u001b[39;49m\u001b[43m}\u001b[49m\u001b[43m)\u001b[49m\n",
      "\u001b[36mFile \u001b[39m\u001b[32m~/miniconda3/envs/jdaviz-dev/lib/python3.13/site-packages/glue_astronomy/translators/spectrum1d.py:364\u001b[39m, in \u001b[36mSpecutilsHandler.to_object\u001b[39m\u001b[34m(self, data_or_subset, attribute, statistic, spectral_axis_index, move_spectral_axis)\u001b[39m\n\u001b[32m    359\u001b[39m         data_kwargs.update({attribute_label: values,\n\u001b[32m    360\u001b[39m                            \u001b[33m'\u001b[39m\u001b[33mmask\u001b[39m\u001b[33m'\u001b[39m: mask})\n\u001b[32m    362\u001b[39m     \u001b[38;5;28;01mreturn\u001b[39;00m data_kwargs\n\u001b[32m--> \u001b[39m\u001b[32m364\u001b[39m data_kwargs = \u001b[43mparse_attributes\u001b[49m\u001b[43m(\u001b[49m\n\u001b[32m    365\u001b[39m \u001b[43m    \u001b[49m\u001b[43m[\u001b[49m\u001b[43mattribute\u001b[49m\u001b[43m]\u001b[49m\u001b[43m \u001b[49m\u001b[38;5;28;43;01mif\u001b[39;49;00m\u001b[43m \u001b[49m\u001b[38;5;129;43;01mnot\u001b[39;49;00m\u001b[43m \u001b[49m\u001b[38;5;28;43mhasattr\u001b[39;49m\u001b[43m(\u001b[49m\u001b[43mattribute\u001b[49m\u001b[43m,\u001b[49m\u001b[43m \u001b[49m\u001b[33;43m'\u001b[39;49m\u001b[33;43m__len__\u001b[39;49m\u001b[33;43m'\u001b[39;49m\u001b[43m)\u001b[49m\u001b[43m \u001b[49m\u001b[38;5;28;43;01melse\u001b[39;49;00m\u001b[43m \u001b[49m\u001b[43mattribute\u001b[49m\u001b[43m)\u001b[49m\n\u001b[32m    367\u001b[39m \u001b[38;5;28;01mreturn\u001b[39;00m Spectrum(**data_kwargs, **kwargs)\n",
      "\u001b[36mFile \u001b[39m\u001b[32m~/miniconda3/envs/jdaviz-dev/lib/python3.13/site-packages/glue_astronomy/translators/spectrum1d.py:330\u001b[39m, in \u001b[36mSpecutilsHandler.to_object.<locals>.parse_attributes\u001b[39m\u001b[34m(attributes)\u001b[39m\n\u001b[32m    328\u001b[39m     mask = \u001b[38;5;28;01mNone\u001b[39;00m\n\u001b[32m    329\u001b[39m \u001b[38;5;28;01melse\u001b[39;00m:\n\u001b[32m--> \u001b[39m\u001b[32m330\u001b[39m     mask = \u001b[43mdata\u001b[49m\u001b[43m.\u001b[49m\u001b[43mget_mask\u001b[49m\u001b[43m(\u001b[49m\u001b[43msubset_state\u001b[49m\u001b[43m=\u001b[49m\u001b[43msubset_state\u001b[49m\u001b[43m)\u001b[49m\n\u001b[32m    331\u001b[39m     mask = ~mask\n\u001b[32m    333\u001b[39m \u001b[38;5;66;03m# Collapse values and mask to profile\u001b[39;00m\n",
      "\u001b[36mFile \u001b[39m\u001b[32m~/miniconda3/envs/jdaviz-dev/lib/python3.13/site-packages/glue/core/data.py:1442\u001b[39m, in \u001b[36mData.get_mask\u001b[39m\u001b[34m(self, subset_state, view)\u001b[39m\n\u001b[32m   1440\u001b[39m     \u001b[38;5;28;01mreturn\u001b[39;00m subset_state.to_mask(\u001b[38;5;28mself\u001b[39m, view=view)\n\u001b[32m   1441\u001b[39m \u001b[38;5;28;01mexcept\u001b[39;00m IncompatibleAttribute:\n\u001b[32m-> \u001b[39m\u001b[32m1442\u001b[39m     \u001b[38;5;28;01mreturn\u001b[39;00m \u001b[43mget_mask_with_key_joins\u001b[49m\u001b[43m(\u001b[49m\u001b[38;5;28;43mself\u001b[39;49m\u001b[43m,\u001b[49m\u001b[43m \u001b[49m\u001b[38;5;28;43mself\u001b[39;49m\u001b[43m.\u001b[49m\u001b[43m_key_joins\u001b[49m\u001b[43m,\u001b[49m\u001b[43m \u001b[49m\u001b[43msubset_state\u001b[49m\u001b[43m,\u001b[49m\u001b[43m \u001b[49m\u001b[43mview\u001b[49m\u001b[43m=\u001b[49m\u001b[43mview\u001b[49m\u001b[43m)\u001b[49m\n",
      "\u001b[36mFile \u001b[39m\u001b[32m~/miniconda3/envs/jdaviz-dev/lib/python3.13/site-packages/glue/core/joins.py:105\u001b[39m, in \u001b[36mget_mask_with_key_joins\u001b[39m\u001b[34m(data, key_joins, subset_state, view)\u001b[39m\n\u001b[32m     99\u001b[39m     \u001b[38;5;28;01melse\u001b[39;00m:\n\u001b[32m    101\u001b[39m         \u001b[38;5;28;01mraise\u001b[39;00m \u001b[38;5;167;01mException\u001b[39;00m(\u001b[33m\"\u001b[39m\u001b[33mEither the number of components in the key join sets \u001b[39m\u001b[33m\"\u001b[39m\n\u001b[32m    102\u001b[39m                         \u001b[33m\"\u001b[39m\u001b[33mshould match, or one of the component sets should \u001b[39m\u001b[33m\"\u001b[39m,\n\u001b[32m    103\u001b[39m                         \u001b[33m\"\u001b[39m\u001b[33mcontain a single component.\u001b[39m\u001b[33m\"\u001b[39m)\n\u001b[32m--> \u001b[39m\u001b[32m105\u001b[39m \u001b[38;5;28;01mraise\u001b[39;00m IncompatibleAttribute\n",
      "\u001b[31mIncompatibleAttribute\u001b[39m: "
     ]
    }
   ],
   "source": [
    "from glue.config import data_translator\n",
    "from specutils import Spectrum\n",
    "handler, _ = data_translator.get_handler_for(Spectrum)\n",
    "data_label = 'Spectrum (Subset 1, sum)'\n",
    "mask_subset = 'Subset 2'\n",
    "real_spectral = [sub for subsets in cubeviz.app.data_collection.subset_groups\n",
    "                 for sub in subsets.subsets\n",
    "                 if sub.data.label == data_label and subsets.label == mask_subset][0] # noqa\n",
    "print(dir(real_spectral), real_spectral.pixel_component_ids)\n",
    "\n",
    "print(cubeviz.app.data_collection[data_label])\n",
    "\n",
    "spec_subset = handler.to_object(real_spectral, **{'statistic': None, 'spectral_axis_index': 0})"
   ]
  },
  {
   "cell_type": "code",
   "execution_count": 7,
   "metadata": {},
   "outputs": [
    {
     "name": "stdout",
     "output_type": "stream",
     "text": [
      "data components:  OrderedDict({Pixel Axis 0 [x]: <glue.core.component.CoordinateComponent object at 0x74fd5b4aef90>, World 0: <glue.core.component.CoordinateComponent object at 0x74fd59a90590>, flux: <glue.core.component.Component object at 0x74fd64ead850>, uncertainty: <glue.core.component.Component object at 0x74fd64eadf50>, mask: <glue.core.component.Component object at 0x74fd5b5c7e30>})\n",
      "\n",
      "data pixel components:  [Pixel Axis 0 [x]]\n",
      "\n",
      "subset components:  [Pixel Axis 0 [x], World 0, flux, uncertainty, mask]\n",
      "\n",
      "data external components:  OrderedDict()\n",
      "\n",
      "subset att:  World 0\n",
      "\n",
      "data meta:  OrderedDict({'uncertainty_type': 'std', 'spectral_axis_index': 0, '_pixel_scale_factor': 3.97217570860291e-13, '_default_color': '#e31a1c', 'Plugin': '3D Spectral Extraction', '_update_live_plugin_results': {'bg_spec_per_spaxel': False, 'dataset': 'jw02732-c1001_t004_miri_ch1-short_s3d', 'wavelength_dependent': False, 'background': 'None', 'bg_spec_add_results': {'label': 'background-spectrum', 'auto': True, 'viewer': 'spectrum-viewer'}, 'bg_wavelength_dependent': False, 'add_results': {'label': 'Spectrum (Subset 1, sum)', 'auto': True, 'viewer': 'spectrum-viewer'}, 'reference_spectral_value': 0.0, 'aperture': 'Subset 1', 'show_live_preview': True, 'aperture_method': 'Center', 'function': 'Sum', '_subscriptions': {'data': ('dataset',), 'subset': ('aperture', 'background')}}})\n",
      "\n",
      "updated data wcs:       From        Transform  \n",
      "-------------- -------------\n",
      "      detector CompoundModel\n",
      "CompositeFrame          None\n"
     ]
    },
    {
     "ename": "IncompatibleAttribute",
     "evalue": "World 0",
     "output_type": "error",
     "traceback": [
      "\u001b[31m---------------------------------------------------------------------------\u001b[39m",
      "\u001b[31mIncompatibleAttribute\u001b[39m                     Traceback (most recent call last)",
      "\u001b[36mCell\u001b[39m\u001b[36m \u001b[39m\u001b[32mIn[7]\u001b[39m\u001b[32m, line 15\u001b[39m\n\u001b[32m      9\u001b[39m \u001b[38;5;66;03m# print('\\noriginal data wcs: ', cubeviz.app.data_collection[0].meta['_orig_spec'].wcs.spectral)\u001b[39;00m\n\u001b[32m     10\u001b[39m \u001b[38;5;28mprint\u001b[39m(\u001b[33m'\u001b[39m\u001b[38;5;130;01m\\n\u001b[39;00m\u001b[33mupdated data wcs: \u001b[39m\u001b[33m'\u001b[39m, cubeviz.app.data_collection[\u001b[32m0\u001b[39m].coords)\n\u001b[32m---> \u001b[39m\u001b[32m15\u001b[39m \u001b[43mdata\u001b[49m\u001b[43m.\u001b[49m\u001b[43mget_data\u001b[49m\u001b[43m(\u001b[49m\u001b[43mreal_spectral\u001b[49m\u001b[43m.\u001b[49m\u001b[43msubset_state\u001b[49m\u001b[43m.\u001b[49m\u001b[43matt\u001b[49m\u001b[43m)\u001b[49m\n\u001b[32m     16\u001b[39m \u001b[38;5;66;03m# data.get_mask(real_spectral.subset_state)\u001b[39;00m\n\u001b[32m     17\u001b[39m \u001b[38;5;66;03m# real_spectral.subset_state.to_mask(data)\u001b[39;00m\n",
      "\u001b[36mFile \u001b[39m\u001b[32m~/miniconda3/envs/jdaviz-dev/lib/python3.13/site-packages/glue/core/data.py:1414\u001b[39m, in \u001b[36mData.get_data\u001b[39m\u001b[34m(self, cid, view)\u001b[39m\n\u001b[32m   1412\u001b[39m     comp = \u001b[38;5;28mself\u001b[39m._externally_derivable_components[cid]\n\u001b[32m   1413\u001b[39m \u001b[38;5;28;01melse\u001b[39;00m:\n\u001b[32m-> \u001b[39m\u001b[32m1414\u001b[39m     \u001b[38;5;28;01mraise\u001b[39;00m IncompatibleAttribute(cid)\n\u001b[32m   1416\u001b[39m \u001b[38;5;28;01mif\u001b[39;00m view \u001b[38;5;129;01mis\u001b[39;00m \u001b[38;5;129;01mnot\u001b[39;00m \u001b[38;5;28;01mNone\u001b[39;00m:\n\u001b[32m   1417\u001b[39m     result = comp[view]\n",
      "\u001b[31mIncompatibleAttribute\u001b[39m: World 0"
     ]
    }
   ],
   "source": [
    "data = cubeviz.app.data_collection[data_label]\n",
    "print('data components: ', data._components)\n",
    "print('\\ndata pixel components: ', data.pixel_component_ids)\n",
    "print('\\nsubset components: ', real_spectral.components)\n",
    "# print(data.attributes)\n",
    "print('\\ndata external components: ', data._externally_derivable_components)\n",
    "print('\\nsubset att: ', real_spectral.subset_state.att)\n",
    "print('\\ndata meta: ', data.meta)\n",
    "# print('\\noriginal data wcs: ', cubeviz.app.data_collection[0].meta['_orig_spec'].wcs.spectral)\n",
    "print('\\nupdated data wcs: ', cubeviz.app.data_collection[0].coords)\n",
    "\n",
    "\n",
    "\n",
    "\n",
    "data.get_data(real_spectral.subset_state.att)\n",
    "# data.get_mask(real_spectral.subset_state)\n",
    "# real_spectral.subset_state.to_mask(data)"
   ]
  },
  {
   "cell_type": "code",
   "execution_count": 12,
   "metadata": {},
   "outputs": [
    {
     "data": {
      "text/plain": [
       "{'Subset 1': [{'name': 'EllipticalROI',\n",
       "   'glue_state': 'RoiSubsetState',\n",
       "   'region': <EllipsePixelRegion(center=PixCoord(x=15.0, y=15.0), width=9.0, height=8.0, angle=0.0 rad)>,\n",
       "   'sky_region': None,\n",
       "   'subset_state': <glue.core.subset.RoiSubsetState at 0x7525ed8db490>}],\n",
       " 'Subset 2': Spectral Region, 1 sub-regions:\n",
       "   (4.62440061e-07 um, 4.62520112e-07 um) }"
      ]
     },
     "execution_count": 12,
     "metadata": {},
     "output_type": "execute_result"
    }
   ],
   "source": [
    "cubeviz.app.get_subsets()"
   ]
  },
  {
   "cell_type": "markdown",
   "metadata": {},
   "source": [
    "Alternatively, the data and the configuration can be autodetected and loaded simultaneously by calling `jdaviz.open(f'{data_dir}/{fn}')`"
   ]
  },
  {
   "cell_type": "markdown",
   "metadata": {},
   "source": [
    "The upper left viewer containing the FLUX cube is the default viewer that is accessible as follows."
   ]
  },
  {
   "cell_type": "code",
   "execution_count": null,
   "metadata": {},
   "outputs": [],
   "source": [
    "viewer = cubeviz.default_viewer"
   ]
  },
  {
   "cell_type": "markdown",
   "metadata": {},
   "source": [
    "Note also that in the above example there are mouse-over coordinates visible by default."
   ]
  },
  {
   "cell_type": "markdown",
   "metadata": {},
   "source": [
    "It possible to make selections/regions in images and export these to Astropy regions. Click on an image viewer toolbar then click on the circular selection tool, and drag and click to select an interesting region on the sky. We can then export this region with:"
   ]
  },
  {
   "cell_type": "code",
   "execution_count": null,
   "metadata": {},
   "outputs": [],
   "source": [
    "regions = cubeviz.plugins['Subset Tools'].get_regions(region_type=\"spatial\")"
   ]
  },
  {
   "cell_type": "code",
   "execution_count": null,
   "metadata": {},
   "outputs": [],
   "source": [
    "regions"
   ]
  },
  {
   "cell_type": "markdown",
   "metadata": {},
   "source": [
    "It is also possible to programmatically pass a `regions` shape or a `photutils` aperture shape.\n",
    "\n",
    "*NOTE: Sky regions are not yet supported for data cubes.*"
   ]
  },
  {
   "cell_type": "code",
   "execution_count": null,
   "metadata": {},
   "outputs": [],
   "source": [
    "data = cubeviz.get_data('jw02732-o004_t004_miri_ch1-short_s3d[SCI]')"
   ]
  },
  {
   "cell_type": "code",
   "execution_count": null,
   "metadata": {},
   "outputs": [],
   "source": [
    "# photutils aperture\n",
    "my_aper = CircularAperture((15, 10), r=5)\n",
    "\n",
    "# regions shape\n",
    "my_reg = CirclePixelRegion(center=PixCoord(x=35, y=35), radius=10)\n",
    "\n",
    "my_regions = [my_aper, my_reg]\n",
    "cubeviz.plugins['Subset Tools'].import_region(my_regions, combination_mode='new')"
   ]
  },
  {
   "cell_type": "markdown",
   "metadata": {},
   "source": [
    "To get the spectra:"
   ]
  },
  {
   "cell_type": "code",
   "execution_count": null,
   "metadata": {},
   "outputs": [],
   "source": [
    "spectra_dict = cubeviz.specviz.get_spectra(apply_slider_redshift=True)\n",
    "spectra_dict"
   ]
  },
  {
   "cell_type": "markdown",
   "metadata": {},
   "source": [
    "This contains the masked spectrum extracted from \"Subset 1\" region."
   ]
  },
  {
   "cell_type": "code",
   "execution_count": null,
   "metadata": {},
   "outputs": [],
   "source": [
    "subset1_spec1d = spectra_dict['Spectrum (Subset 1, sum)']\n",
    "subset1_spec1d"
   ]
  },
  {
   "cell_type": "code",
   "execution_count": null,
   "metadata": {},
   "outputs": [],
   "source": []
  }
 ],
 "metadata": {
  "kernelspec": {
   "display_name": "Python 3 (ipykernel)",
   "language": "python",
   "name": "python3"
  },
  "language_info": {
   "codemirror_mode": {
    "name": "ipython",
    "version": 3
   },
   "file_extension": ".py",
   "mimetype": "text/x-python",
   "name": "python",
   "nbconvert_exporter": "python",
   "pygments_lexer": "ipython3",
   "version": "3.13.5"
  }
 },
 "nbformat": 4,
 "nbformat_minor": 4
}
